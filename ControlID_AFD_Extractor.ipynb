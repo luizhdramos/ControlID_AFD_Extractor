{
 "cells": [
  {
   "cell_type": "code",
   "execution_count": 3,
   "id": "2b9b4e2a",
   "metadata": {},
   "outputs": [],
   "source": [
    "'''\n",
    "\n",
    "exemple:\n",
    "\n",
    "auth = { \"login\": \"login\", \"password\": \"password\" }\n",
    "url = \"https://192.168.0.120/\"\n",
    "\n",
    "'''\n",
    "def get_afd(auth, url):\n",
    "    import requests\n",
    "    import json\n",
    "    import urllib3\n",
    "    from datetime import date, timedelta\n",
    "    yesterday_date = date.today() - timedelta(1)\n",
    "    urllib3.disable_warnings()\n",
    "    \n",
    "    # Pegar Variável Session\n",
    "    \n",
    "    url_login = url + 'login.fcgi'    \n",
    "    payload_login = json.dumps(auth)\n",
    "    headers = {\n",
    "      'Content-Type': 'application/json'\n",
    "    }\n",
    "\n",
    "    response_login = requests.request(\"POST\", url_login, headers=headers, data=payload_login, verify=False)\n",
    "    response_login = json.loads(response_login.text)\n",
    "    session = response_login.get('session')\n",
    "    \n",
    "    # Gerar AFD\n",
    "    \n",
    "    url_afd = url + 'get_afd.fcgi?session=' + session\n",
    "    \n",
    "    #Gera dados do dia anterior\n",
    "    payload_afd = json.dumps({\n",
    "      \"initial_date\": {\n",
    "        \"day\": int(yesterday_date.day),\n",
    "        \"month\": int(yesterday_date.month),\n",
    "        \"year\": int(yesterday_date.year)\n",
    "      }\n",
    "    })\n",
    "    \n",
    "    response = requests.request(\"POST\", url_afd, headers=headers, data=payload_afd, verify = False )\n",
    "    with open (str(yesterday_date.day) + '-' + str(yesterday_date.month) + '-' +\n",
    "               str(yesterday_date.year)+'_AFD.txt', 'w') as AFD_FILE:\n",
    "        AFD_FILE.write(response.text[:-28])"
   ]
  },
  {
   "cell_type": "code",
   "execution_count": null,
   "id": "1fac84ea",
   "metadata": {},
   "outputs": [],
   "source": []
  },
  {
   "cell_type": "code",
   "execution_count": null,
   "id": "f00f5a42",
   "metadata": {},
   "outputs": [],
   "source": []
  }
 ],
 "metadata": {
  "kernelspec": {
   "display_name": "Python 3 (ipykernel)",
   "language": "python",
   "name": "python3"
  },
  "language_info": {
   "codemirror_mode": {
    "name": "ipython",
    "version": 3
   },
   "file_extension": ".py",
   "mimetype": "text/x-python",
   "name": "python",
   "nbconvert_exporter": "python",
   "pygments_lexer": "ipython3",
   "version": "3.9.13"
  }
 },
 "nbformat": 4,
 "nbformat_minor": 5
}
